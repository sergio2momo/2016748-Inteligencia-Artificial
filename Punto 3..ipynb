{
 "cells": [
  {
   "cell_type": "markdown",
   "id": "8b2ca078",
   "metadata": {},
   "source": [
    "Escriba una clase con las siguientes funcionalidades:\n",
    "1. Al instanciar un objeto, lee un conjunto de datos numéricos. Por ejemplo, puede usar el mismo conjunto de datos iris.csv. Instancie los datos en un dataframe de Pandas.\n",
    "2. Implemente un método que calcule las estadísticas descriptivas básicas de cada una de las variables (sepal.length, sepal.width, petal.length, etc)\n",
    "3. Implemente un método que entregue los nombre de las variables disponibles.\n",
    "4. Implemente un método que reciba el nombre de una variable disponible dentro del objeto (en el dataframe) y regrese: sus estadísticas básicas: media, mediana, desviación, percentiles q25, q50, q75 y dibuje un histograma de la distribución de la variable."
   ]
  },
  {
   "cell_type": "code",
   "execution_count": 1,
   "id": "f052be27",
   "metadata": {},
   "outputs": [],
   "source": [
    "#Importar librerías:\n",
    "\n",
    "import pandas as pd\n",
    "import matplotlib.pyplot as plt"
   ]
  },
  {
   "cell_type": "code",
   "execution_count": 2,
   "id": "8526065f",
   "metadata": {},
   "outputs": [],
   "source": [
    "#Construir la clase:\n",
    "\n",
    "class ClassTwo:\n",
    "    def __init__(self, file_path):\n",
    "        self.data = pd.read_csv(file_path)\n",
    "        \n",
    "    def stats(self):\n",
    "        return self.data.describe()\n",
    "    \n",
    "    def get_available_variables(self):\n",
    "        return self.data.columns.tolist()\n",
    "\n",
    "    def stats_per_col(self, variable_name):\n",
    "        if variable_name in self.data.columns:\n",
    "            variable_data = self.data[variable_name]\n",
    "            \n",
    "            stats = {\n",
    "                \"Media\": variable_data.mean(),\n",
    "                \"Mediana\": variable_data.median(),\n",
    "                \"Std. Dev.\": variable_data.std(),\n",
    "                \"q25\": variable_data.quantile(0.25),\n",
    "                \"q50\": variable_data.quantile(0.50),\n",
    "                \"q75\": variable_data.quantile(0.75),\n",
    "            }\n",
    "\n",
    "            plt.hist(variable_data, bins = 20)\n",
    "            plt.xlabel(variable_name)\n",
    "            plt.ylabel(\"Frecuencia\")\n",
    "            plt.title(f\"Histograma de la variable {variable_name}\")\n",
    "            plt.show()\n",
    "            return stats\n",
    "        else:\n",
    "            print(\"La variable ingresada no se encuenta en el dataset.\")"
   ]
  },
  {
   "cell_type": "code",
   "execution_count": 3,
   "id": "273721d9",
   "metadata": {},
   "outputs": [
    {
     "name": "stdout",
     "output_type": "stream",
     "text": [
      "Estadísticas descriptivas:\n",
      "       sepal.length  sepal.width  petal.length  petal.width\n",
      "count    150.000000   150.000000    150.000000   150.000000\n",
      "mean       5.843333     3.057333      3.758000     1.199333\n",
      "std        0.828066     0.435866      1.765298     0.762238\n",
      "min        4.300000     2.000000      1.000000     0.100000\n",
      "25%        5.100000     2.800000      1.600000     0.300000\n",
      "50%        5.800000     3.000000      4.350000     1.300000\n",
      "75%        6.400000     3.300000      5.100000     1.800000\n",
      "max        7.900000     4.400000      6.900000     2.500000\n",
      "Variables disponibles: ['sepal.length', 'sepal.width', 'petal.length', 'petal.width', 'variety']\n",
      "Estadísticas de la variable sepal.length:\n"
     ]
    },
    {
     "data": {
      "image/png": "[encoded data removed]",
      "text/plain": [
       "<Figure size 432x288 with 1 Axes>"
      ]
     },
     "metadata": {
      "needs_background": "light"
     },
     "output_type": "display_data"
    },
    {
     "name": "stdout",
     "output_type": "stream",
     "text": [
      "{'Media': 5.843333333333335, 'Mediana': 5.8, 'Std. Dev.': 0.8280661279778629, 'q25': 5.1, 'q50': 5.8, 'q75': 6.4}\n"
     ]
    }
   ],
   "source": [
    "#Probar la clase:\n",
    "\n",
    "IrisStats = ClassTwo(\"iris.csv\")\n",
    "\n",
    "print('Estadísticas descriptivas:')\n",
    "print(IrisStats.stats())\n",
    "\n",
    "print('Variables disponibles:', IrisStats.get_available_variables())\n",
    "\n",
    "print('Estadísticas de la variable sepal.length:')\n",
    "\n",
    "print(IrisStats.stats_per_col('sepal.length'))"
   ]
  }
 ],
 "metadata": {
  "kernelspec": {
   "display_name": "Python 3 (ipykernel)",
   "language": "python",
   "name": "python3"
  },
  "language_info": {
   "codemirror_mode": {
    "name": "ipython",
    "version": 3
   },
   "file_extension": ".py",
   "mimetype": "text/x-python",
   "name": "python",
   "nbconvert_exporter": "python",
   "pygments_lexer": "ipython3",
   "version": "3.9.12"
  }
 },
 "nbformat": 4,
 "nbformat_minor": 5
}
